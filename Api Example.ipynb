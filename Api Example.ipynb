{
 "cells": [
  {
   "cell_type": "markdown",
   "id": "0f48d75c",
   "metadata": {},
   "source": [
    "# Пример работы API"
   ]
  },
  {
   "cell_type": "markdown",
   "id": "2063e574",
   "metadata": {},
   "source": [
    "Апи реализуется с помощью `FastAPI`. Эндпоинты:\n",
    "* технические:\n",
    "  * `/search_types` - выводит доступные методы поиска\n",
    "  * `/corpora_info` - выводит информацию о корпусе\n",
    "* `/search` - происзводит поиск и предоставляет его результаты. В проекте используется для выведеиния на сайт результатов поика\n",
    "* взаимодействие пользователя с сайтом:\n",
    "  * `/register` - регистрирует пользователя, записывает данные о нем в базу\n",
    "  * `/login` - авторизует пользователя, проверяет валидность логина и пароля\n",
    "  * `/profile/{user_login}` - выводыит данные о пользователи и сохраненные сообщения. В проекте данные выводятся на личную страницу\n",
    "  * `/save` - добавляется сообщения в сохраненные пользователем. В проекте реализуется при нажатии на \"лайк\"\n",
    "  * `/unsave` - удаляет сообщения из сохраненных. Применяется при нажатии на \"дизлайк\" в профиле"
   ]
  },
  {
   "cell_type": "code",
   "execution_count": 1,
   "id": "f427e254",
   "metadata": {},
   "outputs": [],
   "source": [
    "import requests\n",
    "\n",
    "# Указываем URL и данные запроса\n",
    "api_url = \"http://localhost:8000\""
   ]
  },
  {
   "cell_type": "code",
   "execution_count": 2,
   "id": "f5ffd860",
   "metadata": {},
   "outputs": [],
   "source": [
    "def get_response(endpoint):\n",
    "    url = f'{api_url}{endpoint}'\n",
    "    response = requests.get(url)\n",
    "    return response"
   ]
  },
  {
   "cell_type": "code",
   "execution_count": 3,
   "id": "53ee333c",
   "metadata": {},
   "outputs": [],
   "source": [
    "def post_response(endpoint, params):\n",
    "    url = f'{api_url}{endpoint}'\n",
    "    response = requests.post(url, json=params)\n",
    "    return response"
   ]
  },
  {
   "cell_type": "markdown",
   "id": "6cd6b5b1",
   "metadata": {},
   "source": [
    "## /search_types"
   ]
  },
  {
   "cell_type": "code",
   "execution_count": 4,
   "id": "d3a0f2e7",
   "metadata": {},
   "outputs": [
    {
     "name": "stdout",
     "output_type": "stream",
     "text": [
      "['w2v', 'tfidf']\n"
     ]
    }
   ],
   "source": [
    "response = get_response('/search_types')\n",
    "if response.status_code == 200:\n",
    "    print(response.json())\n",
    "else:\n",
    "    print(f\"Error: {response.status_code}\")"
   ]
  },
  {
   "cell_type": "markdown",
   "id": "0ecae005",
   "metadata": {},
   "source": [
    "## /corpora_info"
   ]
  },
  {
   "cell_type": "code",
   "execution_count": 5,
   "id": "7b59a3df",
   "metadata": {},
   "outputs": [
    {
     "name": "stdout",
     "output_type": "stream",
     "text": [
      "{'num_texts': 1457, 'num_tokens': 6587}\n"
     ]
    }
   ],
   "source": [
    "response = get_response('/corpora_info')\n",
    "if response.status_code == 200:\n",
    "    print(response.json())\n",
    "else:\n",
    "    print(f\"Error: {response.status_code}\")"
   ]
  },
  {
   "cell_type": "markdown",
   "id": "ec0c417a",
   "metadata": {},
   "source": [
    "## /search"
   ]
  },
  {
   "cell_type": "code",
   "execution_count": 6,
   "id": "3cb017de",
   "metadata": {},
   "outputs": [
    {
     "name": "stdout",
     "output_type": "stream",
     "text": [
      "{'text_info': [{'rank': 1, 'text': 'Еду с КГ', 'relevance': 0.548, 'index': 6}, {'rank': 2, 'text': 'И питаться подножным кормом?', 'relevance': 0.466, 'index': 714}, {'rank': 3, 'text': 'Кому нужны пельмени Мираторг', 'relevance': 0.456, 'index': 1318}, {'rank': 4, 'text': 'Особенно после того как всех выселили и люди оставили кучу еды на полках', 'relevance': 0.439, 'index': 742}, {'rank': 5, 'text': 'У нас в дубках теперь есть столовка, у них такой роскоши нет (я правда ни разу не ходил, там норм?)', 'relevance': 0.413, 'index': 1037}], 'quantity': 5, 'query': 'еда', 'search_type': 'w2v', 'time': '0:00:01.140161'}\n"
     ]
    }
   ],
   "source": [
    "params = {\n",
    "  \"query\": \"еда\",\n",
    "  \"quantity\": 5,\n",
    "  \"search_type\": \"w2v\"\n",
    "}\n",
    "response = post_response('/search', params)\n",
    "\n",
    "if response.status_code == 200:\n",
    "    print(response.json())\n",
    "else:\n",
    "    print(f\"Error: {response.status_code}\")"
   ]
  },
  {
   "cell_type": "markdown",
   "id": "b9d0a1df",
   "metadata": {},
   "source": [
    "## /register"
   ]
  },
  {
   "cell_type": "code",
   "execution_count": 12,
   "id": "19fe5286",
   "metadata": {},
   "outputs": [
    {
     "name": "stdout",
     "output_type": "stream",
     "text": [
      "{'login': 'test_name2', 'name': 'test_name', 'gender': 'M', 'age': 22, 'saved': None}\n"
     ]
    }
   ],
   "source": [
    "params = {\n",
    "  \"login\": \"test_name2\",\n",
    "  \"name\": \"test_name\",\n",
    "  \"gender\": \"M\",\n",
    "  \"age\": 22,\n",
    "  \"password\": \"mypassword\"\n",
    "}\n",
    "response = post_response('/register', params)\n",
    "\n",
    "if response.status_code == 200:\n",
    "    print(response.json())\n",
    "else:\n",
    "    print(f\"Error: {response.status_code}\")"
   ]
  },
  {
   "cell_type": "markdown",
   "id": "35f6994e",
   "metadata": {},
   "source": [
    "## /login"
   ]
  },
  {
   "cell_type": "code",
   "execution_count": 8,
   "id": "0e220045",
   "metadata": {},
   "outputs": [
    {
     "name": "stdout",
     "output_type": "stream",
     "text": [
      "{'login': 'test_name', 'name': 'test_name', 'gender': 'M', 'age': 22, 'saved': None}\n"
     ]
    }
   ],
   "source": [
    "params = {\n",
    "  \"login\": \"test_name\",\n",
    "  \"password\": \"mypassword\"\n",
    "}\n",
    "response = post_response('/login', params)\n",
    "\n",
    "if response.status_code == 200:\n",
    "    print(response.json())\n",
    "else:\n",
    "    print(f\"Error: {response.status_code}\")"
   ]
  },
  {
   "cell_type": "markdown",
   "id": "f97600e9",
   "metadata": {},
   "source": [
    "## /save"
   ]
  },
  {
   "cell_type": "code",
   "execution_count": 13,
   "id": "b23fe5c1",
   "metadata": {},
   "outputs": [
    {
     "name": "stdout",
     "output_type": "stream",
     "text": [
      "{'detail': 'Message successfully saved'}\n"
     ]
    }
   ],
   "source": [
    "params = {\n",
    "  \"message_id\": \"2\",\n",
    "  \"user_name\": \"test_name\",\n",
    "  \"saved_query\": \"test_query\"\n",
    "}\n",
    "\n",
    "response = post_response('/save', params)\n",
    "\n",
    "if response.status_code == 200:\n",
    "    print(response.json())\n",
    "else:\n",
    "    print(f\"Error: {response.status_code}\")"
   ]
  },
  {
   "cell_type": "markdown",
   "id": "6bc8feb3",
   "metadata": {},
   "source": [
    "## /profile/{user_login}"
   ]
  },
  {
   "cell_type": "code",
   "execution_count": 14,
   "id": "6a84d65c",
   "metadata": {},
   "outputs": [
    {
     "name": "stdout",
     "output_type": "stream",
     "text": [
      "{'login': 'test_name', 'name': 'test_name', 'gender': 'M', 'age': 22, 'saved': {'text_info': [{'rank': 1, 'id': '2', 'text': 'Народ, у кого-нибудь есть колонка проводная? За шоколадку', 'query': 'test_query'}]}}\n"
     ]
    }
   ],
   "source": [
    "response = get_response('//profile/test_name')\n",
    "\n",
    "if response.status_code == 200:\n",
    "    print(response.json())\n",
    "else:\n",
    "    print(f\"Error: {response.status_code}\")"
   ]
  },
  {
   "cell_type": "markdown",
   "id": "098bdf60",
   "metadata": {},
   "source": [
    "## /unsave"
   ]
  },
  {
   "cell_type": "code",
   "execution_count": 15,
   "id": "92c8f366",
   "metadata": {},
   "outputs": [
    {
     "name": "stdout",
     "output_type": "stream",
     "text": [
      "{'detail': 'Message successfully unsaved'}\n"
     ]
    }
   ],
   "source": [
    "params = {\n",
    "  \"message_id\": \"1\",\n",
    "  \"user_name\": \"test_name\",\n",
    "  \"saved_query\": \"test_query\"\n",
    "}\n",
    "\n",
    "response = post_response('/unsave', params)\n",
    "\n",
    "if response.status_code == 200:\n",
    "    print(response.json())\n",
    "else:\n",
    "    print(f\"Error: {response.status_code}\")"
   ]
  },
  {
   "cell_type": "code",
   "execution_count": null,
   "id": "de6fb29d",
   "metadata": {},
   "outputs": [],
   "source": []
  }
 ],
 "metadata": {
  "kernelspec": {
   "display_name": "hwnlp",
   "language": "python",
   "name": "hwnlp"
  },
  "language_info": {
   "codemirror_mode": {
    "name": "ipython",
    "version": 3
   },
   "file_extension": ".py",
   "mimetype": "text/x-python",
   "name": "python",
   "nbconvert_exporter": "python",
   "pygments_lexer": "ipython3",
   "version": "3.8.20"
  }
 },
 "nbformat": 4,
 "nbformat_minor": 5
}
